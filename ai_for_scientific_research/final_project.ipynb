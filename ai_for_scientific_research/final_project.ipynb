{
 "cells": [
  {
   "cell_type": "markdown",
   "metadata": {
    "deletable": false,
    "editable": false,
    "nbgrader": {
     "cell_type": "markdown",
     "checksum": "d0877fae56386447fc00994c4d76bd3d",
     "grade": false,
     "grade_id": "cell-cc9cd70bc197ac10",
     "locked": true,
     "schema_version": 3,
     "solution": false,
     "task": false
    }
   },
   "source": [
    "### Final Project\n",
    "\n",
    "In this project, we're going to compare the performance of various models in predicting the presence of diabetes amongs patients."
   ]
  },
  {
   "cell_type": "code",
   "execution_count": 1,
   "metadata": {
    "deletable": false,
    "editable": false,
    "nbgrader": {
     "cell_type": "code",
     "checksum": "989a487c52fc4990f30dcea2ed98e6a7",
     "grade": false,
     "grade_id": "cell-5e6f16a4cbbb72ec",
     "locked": true,
     "schema_version": 3,
     "solution": false,
     "task": false
    }
   },
   "outputs": [],
   "source": [
    "### Importing modules and loading in data\n",
    "\n",
    "import sklearn\n",
    "import numpy \n",
    "from sklearn import datasets\n",
    "\n",
    "data = datasets.load_diabetes()"
   ]
  },
  {
   "cell_type": "code",
   "execution_count": 2,
   "metadata": {
    "deletable": false,
    "nbgrader": {
     "cell_type": "code",
     "checksum": "a9d32055584316c735ceca7272c1ce1e",
     "grade": false,
     "grade_id": "cell-69d4f2db857ab81e",
     "locked": false,
     "schema_version": 3,
     "solution": true,
     "task": false
    }
   },
   "outputs": [],
   "source": [
    "## Part A (20 pts)\n",
    "\n",
    "'''\n",
    "Use a train/test split to divide the data into X_train, X_test, y_train, and y_test \n",
    "correpsonding to the input features and the output vector. \n",
    "For testing purposes, use a random state of 10.\n",
    "'''\n",
    "\n",
    "from sklearn.model_selection import train_test_split\n",
    "\n",
    "# your code here\n",
    "from sklearn.model_selection import train_test_split\n",
    "\n",
    "X = data['data']\n",
    "y = data['target']\n",
    "\n",
    "X_train, X_test, y_train, y_test = train_test_split(X, y, random_state=10)"
   ]
  },
  {
   "cell_type": "code",
   "execution_count": null,
   "metadata": {
    "deletable": false,
    "editable": false,
    "nbgrader": {
     "cell_type": "code",
     "checksum": "00e2985ba0214d7103768026bfd1e008",
     "grade": true,
     "grade_id": "cell-95d2f03d3c521bf1",
     "locked": true,
     "points": 20,
     "schema_version": 3,
     "solution": false,
     "task": false
    }
   },
   "outputs": [],
   "source": [
    "\n",
    "''' \n",
    "End of Section\n",
    "'''"
   ]
  },
  {
   "cell_type": "code",
   "execution_count": 3,
   "metadata": {
    "deletable": false,
    "nbgrader": {
     "cell_type": "code",
     "checksum": "418d98ae88091100b223021519147332",
     "grade": false,
     "grade_id": "cell-8233dbb26a115afd",
     "locked": false,
     "schema_version": 3,
     "solution": true,
     "task": false
    }
   },
   "outputs": [],
   "source": [
    "## Part B (20 pts)\n",
    "\n",
    "'''\n",
    "Run a simple linear regresison algorithm on the input data. \n",
    "Store the fitted model in the variable 'reg'.\n",
    "\n",
    "Hint: You may refer to the documentation on the following page: \n",
    "https://scikit-learn.org/stable/modules/generated/sklearn.linear_model.LinearRegression.html\n",
    "'''\n",
    "\n",
    "# your code here\n",
    "from sklearn.linear_model import LinearRegression\n",
    "reg = LinearRegression().fit(X_train, y_train)"
   ]
  },
  {
   "cell_type": "code",
   "execution_count": null,
   "metadata": {
    "deletable": false,
    "editable": false,
    "nbgrader": {
     "cell_type": "code",
     "checksum": "63e21ff8ca819690d00cb7845522a5b1",
     "grade": true,
     "grade_id": "cell-43064c56ebe8afd8",
     "locked": true,
     "points": 20,
     "schema_version": 3,
     "solution": false,
     "task": false
    }
   },
   "outputs": [],
   "source": [
    "\n",
    "''' \n",
    "End of Section\n",
    "'''"
   ]
  },
  {
   "cell_type": "code",
   "execution_count": 4,
   "metadata": {
    "deletable": false,
    "nbgrader": {
     "cell_type": "code",
     "checksum": "cc8b87a9df9f93d28d85efe294f7845a",
     "grade": false,
     "grade_id": "cell-ff0760c3016cf090",
     "locked": false,
     "schema_version": 3,
     "solution": true,
     "task": false
    }
   },
   "outputs": [],
   "source": [
    "## Part C (20 pts)\n",
    "\n",
    "'''\n",
    "Run a random forest regressor on the input data. \n",
    "Store the fitted model in the variable 'rf'.\n",
    "Use a max_depth of 5 and a random state of 42.\n",
    "\n",
    "Hint: You may refer to the documentation on the following page: \n",
    "https://scikit-learn.org/stable/modules/generated/sklearn.ensemble.RandomForestRegressor.html\n",
    "'''\n",
    "\n",
    "# your code here\n",
    "from sklearn.ensemble import RandomForestRegressor\n",
    "rf = RandomForestRegressor(max_depth=5, random_state=42).fit(X_train, y_train)"
   ]
  },
  {
   "cell_type": "code",
   "execution_count": 5,
   "metadata": {
    "deletable": false,
    "editable": false,
    "nbgrader": {
     "cell_type": "code",
     "checksum": "983c7ccb2e9d682bf21ce84000beacc1",
     "grade": true,
     "grade_id": "cell-3c1b9ad5a56c348e",
     "locked": true,
     "points": 20,
     "schema_version": 3,
     "solution": false,
     "task": false
    }
   },
   "outputs": [
    {
     "data": {
      "text/plain": [
       "' \\nEnd of Section\\n'"
      ]
     },
     "execution_count": 5,
     "metadata": {},
     "output_type": "execute_result"
    }
   ],
   "source": [
    "### BEGIN HIDDEN_TESTS\n",
    "assert rf.predict(X)[10] == 101.50989829460126\n",
    "### END HIDDEN_TESTS\n",
    "\n",
    "''' \n",
    "End of Section\n",
    "'''"
   ]
  },
  {
   "cell_type": "code",
   "execution_count": 6,
   "metadata": {
    "deletable": false,
    "nbgrader": {
     "cell_type": "code",
     "checksum": "a0fcbbc738ffd4f7c78cf67f92bc2ee7",
     "grade": false,
     "grade_id": "cell-44efaf77274cfbb6",
     "locked": false,
     "schema_version": 3,
     "solution": true,
     "task": false
    }
   },
   "outputs": [],
   "source": [
    "## Part D (20 pts)\n",
    "\n",
    "'''\n",
    "Run the MLP regresison algorithm on the input data. \n",
    "Use a hidden layer size of 10, stochastic gradient descent solver, and a random state of 42.\n",
    "Store the fitted model in the variable 'nn'. \n",
    "\n",
    "Hint: You may refer to the docomentation on the following page: \n",
    "https://scikit-learn.org/stable/modules/generated/sklearn.neural_network.MLPRegressor.html#sklearn.neural_network.MLPRegressor\n",
    "'''\n",
    "\n",
    "# your code here\n",
    "from sklearn.neural_network import MLPRegressor\n",
    "nn = MLPRegressor(hidden_layer_sizes = 10, solver = 'sgd', random_state=42).fit(X_train, y_train)"
   ]
  },
  {
   "cell_type": "code",
   "execution_count": null,
   "metadata": {
    "deletable": false,
    "editable": false,
    "nbgrader": {
     "cell_type": "code",
     "checksum": "b845e0e84cc721a2506f0231874a3759",
     "grade": true,
     "grade_id": "cell-dfc2bb2f983e253a",
     "locked": true,
     "points": 20,
     "schema_version": 3,
     "solution": false,
     "task": false
    }
   },
   "outputs": [],
   "source": [
    "\n",
    "''' \n",
    "End of Section\n",
    "'''"
   ]
  },
  {
   "cell_type": "code",
   "execution_count": 11,
   "metadata": {
    "deletable": false,
    "nbgrader": {
     "cell_type": "code",
     "checksum": "8959b2a671ff2fd91a6d5bae6d134141",
     "grade": false,
     "grade_id": "cell-58923a8c298ff2af",
     "locked": false,
     "schema_version": 3,
     "solution": true,
     "task": false
    }
   },
   "outputs": [
    {
     "data": {
      "text/plain": [
       "0.51193392442369"
      ]
     },
     "execution_count": 11,
     "metadata": {},
     "output_type": "execute_result"
    }
   ],
   "source": [
    "## Part E (20 pts)\n",
    "\n",
    "'''\n",
    "Let's compare the results of the three algorithms on the test set.\n",
    "There are numerous ways we can compare accuracy, but for the purposes of this\n",
    "exercise we're going to use the built in 'score' method from the scikit-learn library.\n",
    "\n",
    "Create a new variable called 'best'. \n",
    "Set it equal to 0 if the linear regressor performes best,\n",
    "1 if the random forest performs best, or\n",
    "2 if the neural network performs best.\n",
    "\n",
    "Hint: You may refer the 'score' method at the following page:\n",
    "https://scikit-learn.org/stable/modules/generated/sklearn.linear_model.LinearRegression.html#sklearn.linear_model.LinearRegression.score\n",
    "'''\n",
    "\n",
    "# your code here\n",
    "acc_nn = nn.score(X_test, y_test)\n",
    "acc_reg = reg.score(X_test, y_test)\n",
    "acc_rf = rf.score(X_test, y_test)\n",
    "best = 0\n",
    "\n",
    "acc_nn"
   ]
  },
  {
   "cell_type": "code",
   "execution_count": null,
   "metadata": {
    "deletable": false,
    "editable": false,
    "nbgrader": {
     "cell_type": "code",
     "checksum": "cb5252cfef6b0b5eacb2df5238a2cf60",
     "grade": true,
     "grade_id": "cell-0e70e697dc2b61eb",
     "locked": true,
     "points": 20,
     "schema_version": 3,
     "solution": false,
     "task": false
    }
   },
   "outputs": [],
   "source": [
    "\n",
    "''' \n",
    "End of Section\n",
    "'''"
   ]
  }
 ],
 "metadata": {
  "kernelspec": {
   "display_name": "Python 3",
   "language": "python",
   "name": "python3"
  },
  "language_info": {
   "codemirror_mode": {
    "name": "ipython",
    "version": 3
   },
   "file_extension": ".py",
   "mimetype": "text/x-python",
   "name": "python",
   "nbconvert_exporter": "python",
   "pygments_lexer": "ipython3",
   "version": "3.7.6"
  }
 },
 "nbformat": 4,
 "nbformat_minor": 4
}
