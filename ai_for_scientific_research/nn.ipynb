{
 "cells": [
  {
   "cell_type": "markdown",
   "metadata": {},
   "source": [
    "## Neural Networks\n",
    "\n",
    "In this practice assignment, we'll swap out linear classifiers for neural networks to predict the presence of breast cancer amongst patients."
   ]
  },
  {
   "cell_type": "code",
   "execution_count": 9,
   "metadata": {
    "deletable": false,
    "editable": false,
    "nbgrader": {
     "cell_type": "code",
     "checksum": "8a80082044da03fe46ef5fe0ed747fbb",
     "grade": false,
     "grade_id": "cell-43e85facc2744000",
     "locked": true,
     "schema_version": 3,
     "solution": false,
     "task": false
    }
   },
   "outputs": [],
   "source": [
    "### Loading packages and importing data\n",
    "\n",
    "from sklearn import datasets\n",
    "import numpy as np\n",
    "import sklearn\n",
    "\n",
    "data = datasets.load_breast_cancer()"
   ]
  },
  {
   "cell_type": "code",
   "execution_count": 10,
   "metadata": {
    "deletable": false,
    "nbgrader": {
     "cell_type": "code",
     "checksum": "b9c5c163b64e0f4b7866d2880c8bc0c3",
     "grade": false,
     "grade_id": "cell-c2dd27c47c3043c5",
     "locked": false,
     "schema_version": 3,
     "solution": true,
     "task": false
    }
   },
   "outputs": [],
   "source": [
    "## Part A (25 pts)\n",
    "\n",
    "'''\n",
    "When creating models, it's important to split our data into a train and test set.\n",
    "You can read more about it here: https://scikit-learn.org/stable/modules/generated/sklearn.model_selection.train_test_split.html\n",
    "Store the data into X_train, X_test, y_train, and y_test arrays correpsonding to the input features and the output vector.\n",
    "Use a random state of 1. \n",
    "We have already imported the module for you\n",
    "'''\n",
    "from sklearn.model_selection import train_test_split\n",
    "\n",
    "# your code here\n",
    "from sklearn.model_selection import train_test_split\n",
    "X = data['data']\n",
    "y = data['target']\n",
    "X_train, X_test, y_train, y_test = train_test_split(X, y, random_state=11)"
   ]
  },
  {
   "cell_type": "code",
   "execution_count": null,
   "metadata": {
    "deletable": false,
    "editable": false,
    "nbgrader": {
     "cell_type": "code",
     "checksum": "a6263aa72a540ebce9cb6c4b8dd8cacc",
     "grade": true,
     "grade_id": "cell-7f6a530964f39c5d",
     "locked": true,
     "points": 25,
     "schema_version": 3,
     "solution": false,
     "task": false
    }
   },
   "outputs": [],
   "source": [
    "\n",
    "''' \n",
    "End of Section\n",
    "'''"
   ]
  },
  {
   "cell_type": "code",
   "execution_count": 11,
   "metadata": {
    "deletable": false,
    "nbgrader": {
     "cell_type": "code",
     "checksum": "c1207e94db89302315010db8e6600f5c",
     "grade": false,
     "grade_id": "cell-027e418534d26876",
     "locked": false,
     "schema_version": 3,
     "solution": true,
     "task": false
    }
   },
   "outputs": [],
   "source": [
    "## Part B (50 pts)\n",
    "\n",
    "'''\n",
    "Run a MLP classifier on the input data. \n",
    "Use a hidden layer size of 30, stochastic gradient descent solver, and a random state of 42.\n",
    "Store the fitted model in the variable 'nn'. \n",
    "\n",
    "Hint: Look at the documentation on the following page: \n",
    "https://scikit-learn.org/stable/modules/generated/sklearn.neural_network.MLPClassifier.html#sklearn.neural_network.MLPRegressor\n",
    "'''\n",
    "\n",
    "# your code here\n",
    "from sklearn.neural_network import MLPClassifier\n",
    "nn = MLPClassifier(hidden_layer_sizes = 30, solver = 'sgd', random_state=42).fit(X_train, y_train)"
   ]
  },
  {
   "cell_type": "code",
   "execution_count": null,
   "metadata": {
    "deletable": false,
    "editable": false,
    "nbgrader": {
     "cell_type": "code",
     "checksum": "5fdd3037b2b9dd97960fbc245c3a32ca",
     "grade": true,
     "grade_id": "cell-9abccdbf5612af95",
     "locked": true,
     "points": 50,
     "schema_version": 3,
     "solution": false,
     "task": false
    }
   },
   "outputs": [],
   "source": [
    "\n",
    "''' \n",
    "End of Section\n",
    "'''"
   ]
  },
  {
   "cell_type": "code",
   "execution_count": 12,
   "metadata": {
    "deletable": false,
    "nbgrader": {
     "cell_type": "code",
     "checksum": "16040a0b7e5c14aa3a4f2cf8b66a946d",
     "grade": false,
     "grade_id": "cell-fb6ce4dd85bfe1a0",
     "locked": false,
     "schema_version": 3,
     "solution": true,
     "task": false
    }
   },
   "outputs": [
    {
     "data": {
      "text/plain": [
       "array([1, 1, 1, 1, 1, 1, 1, 1, 1, 1, 1, 1, 1, 1, 1, 1, 1, 1, 1, 1, 1, 1,\n",
       "       1, 1, 1, 1, 1, 1, 1, 1, 1, 1, 1, 1, 1, 1, 1, 1, 1, 1, 1, 1, 1, 1,\n",
       "       1, 1, 1, 1, 1, 1, 1, 1, 1, 1, 1, 1, 1, 1, 1, 1, 1, 1, 1, 1, 1, 1,\n",
       "       1, 1, 1, 1, 1, 1, 1, 1, 1, 1, 1, 1, 1, 1, 1, 1, 1, 1, 1, 1, 1, 1,\n",
       "       1, 1, 1, 1, 1, 1, 1, 1, 1, 1, 1, 1, 1, 1, 1, 1, 1, 1, 1, 1, 1, 1,\n",
       "       1, 1, 1, 1, 1, 1, 1, 1, 1, 1, 1, 1, 1, 1, 1, 1, 1, 1, 1, 1, 1, 1,\n",
       "       1, 1, 1, 1, 1, 1, 1, 1, 1, 1, 1])"
      ]
     },
     "execution_count": 12,
     "metadata": {},
     "output_type": "execute_result"
    }
   ],
   "source": [
    "## Part C (25 pts)\n",
    "\n",
    "'''\n",
    "Make predictions on the test set using the fitted network.\n",
    "Store the predictions in a variable called 'pred'.\n",
    "Find the accuracy of the model on the test set and store in a variable called 'accuracy'.\n",
    "'''\n",
    "\n",
    "# your code here\n",
    "pred = nn.predict(X_test)\n",
    "accuracy = nn.score(X_test, y_test)\n",
    "accuracy\n",
    "pred"
   ]
  },
  {
   "cell_type": "code",
   "execution_count": 13,
   "metadata": {
    "deletable": false,
    "editable": false,
    "nbgrader": {
     "cell_type": "code",
     "checksum": "9124c6b705bb1826ca3cfb116236c417",
     "grade": true,
     "grade_id": "cell-71ba58fc75fca607",
     "locked": true,
     "points": 25,
     "schema_version": 3,
     "solution": false,
     "task": false
    }
   },
   "outputs": [
    {
     "data": {
      "text/plain": [
       "' \\nEnd of Section\\n'"
      ]
     },
     "execution_count": 13,
     "metadata": {},
     "output_type": "execute_result"
    }
   ],
   "source": [
    "\n",
    "''' \n",
    "End of Section\n",
    "'''"
   ]
  }
 ],
 "metadata": {
  "kernelspec": {
   "display_name": "Python 3",
   "language": "python",
   "name": "python3"
  },
  "language_info": {
   "codemirror_mode": {
    "name": "ipython",
    "version": 3
   },
   "file_extension": ".py",
   "mimetype": "text/x-python",
   "name": "python",
   "nbconvert_exporter": "python",
   "pygments_lexer": "ipython3",
   "version": "3.7.6"
  }
 },
 "nbformat": 4,
 "nbformat_minor": 4
}
